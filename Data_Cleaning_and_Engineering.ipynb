{
  "nbformat": 4,
  "nbformat_minor": 0,
  "metadata": {
    "colab": {
      "provenance": [],
      "authorship_tag": "ABX9TyMwT6lgb9/C2JXALMmlP6V6",
      "include_colab_link": true
    },
    "kernelspec": {
      "name": "python3",
      "display_name": "Python 3"
    },
    "language_info": {
      "name": "python"
    }
  },
  "cells": [
    {
      "cell_type": "markdown",
      "metadata": {
        "id": "view-in-github",
        "colab_type": "text"
      },
      "source": [
        "<a href=\"https://colab.research.google.com/github/jbloewencolon/Analyzing-Bergson/blob/main/Data_Cleaning_and_Engineering.ipynb\" target=\"_parent\"><img src=\"https://colab.research.google.com/assets/colab-badge.svg\" alt=\"Open In Colab\"/></a>"
      ]
    },
    {
      "cell_type": "code",
      "execution_count": 1,
      "metadata": {
        "colab": {
          "base_uri": "https://localhost:8080/",
          "height": 140
        },
        "id": "cdzydofPPc5F",
        "outputId": "80e299a4-4931-4bec-ec08-59afc16a900a"
      },
      "outputs": [
        {
          "output_type": "error",
          "ename": "SyntaxError",
          "evalue": "ignored",
          "traceback": [
            "\u001b[0;36m  File \u001b[0;32m\"<ipython-input-1-3d7aa6609e55>\"\u001b[0;36m, line \u001b[0;32m1\u001b[0m\n\u001b[0;31m    pip install nltk\u001b[0m\n\u001b[0m        ^\u001b[0m\n\u001b[0;31mSyntaxError\u001b[0m\u001b[0;31m:\u001b[0m invalid syntax\n"
          ]
        }
      ],
      "source": [
        "pip install nltk\n",
        "pip install matplotlib\n",
        "\n",
        "import nltk\n",
        "from nltk.corpus import stopwords\n",
        "from nltk.tokenize import word_tokenize\n",
        "import matplotlib.pyplot as plt\n",
        "from collections import Counter\n",
        "\n",
        "# Reading Text File\n",
        "with open(\"bergson_text.txt\", \"r\", encoding='utf-8') as f:\n",
        "    text = f.read().lower() # Read and convert to lowercase\n",
        "\n",
        "# Tokenization: Split the text into words\n",
        "tokens = word_tokenize(text)\n",
        "\n",
        "# Remove Punctuation and Numbers\n",
        "tokens = [word for word in tokens if word.isalpha()]\n",
        "\n",
        "# Remove Stopwords\n",
        "stop_words = set(stopwords.words('english'))\n",
        "filtered_tokens = [word for word in tokens if not word in stop_words]\n",
        "\n",
        "# Frequency Distribution\n",
        "freq = Counter(filtered_tokens)\n",
        "\n",
        "# Visualization\n",
        "common_words = freq.most_common(10)\n",
        "words = [word[0] for word in common_words]\n",
        "counts = [word[1] for word in common_words]\n",
        "\n",
        "plt.figure(figsize=(15, 6))\n",
        "plt.barh(words, counts, color='purple')\n",
        "plt.xlabel('Counts')\n",
        "plt.ylabel('Common Words')\n",
        "plt.title('Most Common Words in Henri Bergson Text')\n",
        "plt.show()"
      ]
    },
    {
      "cell_type": "code",
      "source": [],
      "metadata": {
        "id": "Uhn8aGUPMK-8"
      },
      "execution_count": null,
      "outputs": []
    }
  ]
}