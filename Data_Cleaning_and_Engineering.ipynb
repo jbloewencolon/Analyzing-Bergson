{
  "nbformat": 4,
  "nbformat_minor": 0,
  "metadata": {
    "colab": {
      "provenance": [],
      "authorship_tag": "ABX9TyNFBSTBycUhq1kyp8/no+vL",
      "include_colab_link": true
    },
    "kernelspec": {
      "name": "python3",
      "display_name": "Python 3"
    },
    "language_info": {
      "name": "python"
    }
  },
  "cells": [
    {
      "cell_type": "markdown",
      "metadata": {
        "id": "view-in-github",
        "colab_type": "text"
      },
      "source": [
        "<a href=\"https://colab.research.google.com/github/jbloewencolon/Analyzing-Bergson/blob/main/Data_Cleaning_and_Engineering.ipynb\" target=\"_parent\"><img src=\"https://colab.research.google.com/assets/colab-badge.svg\" alt=\"Open In Colab\"/></a>"
      ]
    },
    {
      "cell_type": "code",
      "execution_count": 3,
      "metadata": {
        "colab": {
          "base_uri": "https://localhost:8080/",
          "height": 245
        },
        "id": "cdzydofPPc5F",
        "outputId": "bce09ef3-7965-4635-fc00-87caf7380311"
      },
      "outputs": [
        {
          "output_type": "error",
          "ename": "FileNotFoundError",
          "evalue": "ignored",
          "traceback": [
            "\u001b[0;31m---------------------------------------------------------------------------\u001b[0m",
            "\u001b[0;31mFileNotFoundError\u001b[0m                         Traceback (most recent call last)",
            "\u001b[0;32m<ipython-input-3-3ceb943a3e25>\u001b[0m in \u001b[0;36m<cell line: 8>\u001b[0;34m()\u001b[0m\n\u001b[1;32m      6\u001b[0m \u001b[0;34m\u001b[0m\u001b[0m\n\u001b[1;32m      7\u001b[0m \u001b[0;31m# Reading Text File\u001b[0m\u001b[0;34m\u001b[0m\u001b[0;34m\u001b[0m\u001b[0m\n\u001b[0;32m----> 8\u001b[0;31m \u001b[0;32mwith\u001b[0m \u001b[0mopen\u001b[0m\u001b[0;34m(\u001b[0m\u001b[0;34m\"bergson_text.txt\"\u001b[0m\u001b[0;34m,\u001b[0m \u001b[0;34m\"r\"\u001b[0m\u001b[0;34m,\u001b[0m \u001b[0mencoding\u001b[0m\u001b[0;34m=\u001b[0m\u001b[0;34m'utf-8'\u001b[0m\u001b[0;34m)\u001b[0m \u001b[0;32mas\u001b[0m \u001b[0mf\u001b[0m\u001b[0;34m:\u001b[0m\u001b[0;34m\u001b[0m\u001b[0;34m\u001b[0m\u001b[0m\n\u001b[0m\u001b[1;32m      9\u001b[0m     \u001b[0mtext\u001b[0m \u001b[0;34m=\u001b[0m \u001b[0mf\u001b[0m\u001b[0;34m.\u001b[0m\u001b[0mread\u001b[0m\u001b[0;34m(\u001b[0m\u001b[0;34m)\u001b[0m\u001b[0;34m.\u001b[0m\u001b[0mlower\u001b[0m\u001b[0;34m(\u001b[0m\u001b[0;34m)\u001b[0m \u001b[0;31m# Read and convert to lowercase\u001b[0m\u001b[0;34m\u001b[0m\u001b[0;34m\u001b[0m\u001b[0m\n\u001b[1;32m     10\u001b[0m \u001b[0;34m\u001b[0m\u001b[0m\n",
            "\u001b[0;31mFileNotFoundError\u001b[0m: [Errno 2] No such file or directory: 'bergson_text.txt'"
          ]
        }
      ],
      "source": [
        "import nltk\n",
        "from nltk.corpus import stopwords\n",
        "from nltk.tokenize import word_tokenize\n",
        "import matplotlib.pyplot as plt\n",
        "from collections import Counter"
      ]
    },
    {
      "cell_type": "code",
      "source": [
        "from PyPDF2 import PdfFileReader\n",
        "\n",
        "def pdf_to_text(filepath):\n",
        "    pdf_reader = PdfFileReader(open(filepath, 'rb'))\n",
        "    text = ''\n",
        "    for page_num in range(pdf_reader.numPages):\n",
        "        text += pdf_reader.getPage(page_num).extractText()\n",
        "    return text"
      ],
      "metadata": {
        "id": "Uhn8aGUPMK-8"
      },
      "execution_count": null,
      "outputs": []
    },
    {
      "cell_type": "code",
      "source": [
        "# Reading Text File\n",
        "with open(\"bergson_text.txt\", \"r\", encoding='utf-8') as f:\n",
        "    text = f.read().lower() # Read and convert to lowercase\n",
        "\n",
        "# Tokenization: Split the text into words\n",
        "tokens = word_tokenize(text)\n",
        "\n",
        "# Remove Punctuation and Numbers\n",
        "tokens = [word for word in tokens if word.isalpha()]\n",
        "\n",
        "# Remove Stopwords\n",
        "stop_words = set(stopwords.words('english'))\n",
        "filtered_tokens = [word for word in tokens if not word in stop_words]\n",
        "\n",
        "# Frequency Distribution\n",
        "freq = Counter(filtered_tokens)\n",
        "\n",
        "# Visualization\n",
        "common_words = freq.most_common(10)\n",
        "words = [word[0] for word in common_words]\n",
        "counts = [word[1] for word in common_words]\n",
        "\n",
        "plt.figure(figsize=(15, 6))\n",
        "plt.barh(words, counts, color='purple')\n",
        "plt.xlabel('Counts')\n",
        "plt.ylabel('Common Words')\n",
        "plt.title('Most Common Words in Henri Bergson Text')\n",
        "plt.show()"
      ],
      "metadata": {
        "id": "qsPabfjlC5m_"
      },
      "execution_count": null,
      "outputs": []
    }
  ]
}