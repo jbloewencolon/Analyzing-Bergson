{
  "nbformat": 4,
  "nbformat_minor": 0,
  "metadata": {
    "colab": {
      "provenance": [],
      "mount_file_id": "14Uefty1xplar4RTue0IAQNpagI98mnO8",
      "authorship_tag": "ABX9TyMQhVOVS9yHv6/ImZjoONvf",
      "include_colab_link": true
    },
    "kernelspec": {
      "name": "python3",
      "display_name": "Python 3"
    },
    "language_info": {
      "name": "python"
    }
  },
  "cells": [
    {
      "cell_type": "markdown",
      "metadata": {
        "id": "view-in-github",
        "colab_type": "text"
      },
      "source": [
        "<a href=\"https://colab.research.google.com/github/jbloewencolon/Analyzing-Bergson/blob/main/Data_Cleaning_and_Engineering.ipynb\" target=\"_parent\"><img src=\"https://colab.research.google.com/assets/colab-badge.svg\" alt=\"Open In Colab\"/></a>"
      ]
    },
    {
      "cell_type": "code",
      "execution_count": 18,
      "metadata": {
        "colab": {
          "base_uri": "https://localhost:8080/"
        },
        "id": "cdzydofPPc5F",
        "outputId": "b98cc797-1bfe-4248-8dcf-7152a99fe5fb"
      },
      "outputs": [
        {
          "output_type": "stream",
          "name": "stdout",
          "text": [
            "Requirement already satisfied: PyPDF2 in /usr/local/lib/python3.10/dist-packages (3.0.1)\n"
          ]
        }
      ],
      "source": [
        "!pip install PyPDF2\n",
        "\n",
        "import nltk\n",
        "from nltk.tokenize import word_tokenize\n",
        "from nltk.corpus import stopwords\n",
        "import matplotlib.pyplot as plt\n",
        "from collections import Counter"
      ]
    },
    {
      "cell_type": "code",
      "source": [
        "import warnings\n",
        "from PyPDF2 import PdfReader\n",
        "import os\n",
        "import pickle\n",
        "\n",
        "# Suppress specific warnings\n",
        "warnings.filterwarnings(\"ignore\", category=UserWarning, module='PyPDF2')\n",
        "\n",
        "# Check if a pickled file already exists\n",
        "pickle_file_path = 'pdf_text_dict.pkl'\n",
        "\n",
        "if os.path.exists(pickle_file_path):\n",
        "    with open(pickle_file_path, 'rb') as handle:\n",
        "        pdf_text_dict = pickle.load(handle)\n",
        "    print(\"Loaded pickled dictionary. Exiting script.\")\n",
        "else:\n",
        "    print(\"Pickled dictionary not found. Proceeding with PDF processing.\")\n",
        "\n",
        "    # Function to convert a PDF to text\n",
        "    def pdf_to_text(filepath):\n",
        "        with open(filepath, 'rb') as f:\n",
        "            pdf_reader = PdfReader(f)\n",
        "            text_pages = []\n",
        "            for page_num in range(len(pdf_reader.pages)):\n",
        "                text_pages.append(pdf_reader.pages[page_num].extract_text())\n",
        "        return ''.join(text_pages)\n",
        "\n",
        "    # Initialize a dictionary to hold each PDF's text\n",
        "    pdf_text_dict = {}\n",
        "\n",
        "    # Define the directory path for PDFs\n",
        "    folder_path = \"/content/drive/MyDrive/Projects/Archived Projects/Syracuse/2017 - 2018/1 Comps/3  VR Problem Exam/Summaries/Bergson\"\n",
        "\n",
        "    # List all files in the directory\n",
        "    pdf_files = [f for f in os.listdir(folder_path) if f.endswith('.pdf')]\n",
        "\n",
        "    # Loop through each PDF file and extract text\n",
        "    for pdf_file in pdf_files:\n",
        "        if pdf_file not in pdf_text_dict:  # Skip if already processed\n",
        "            full_path = os.path.join(folder_path, pdf_file)\n",
        "            print(f\"Processing {pdf_file}...\")\n",
        "            try:\n",
        "                pdf_text = pdf_to_text(full_path)\n",
        "                pdf_text_dict[pdf_file] = pdf_text\n",
        "            except Exception as e:\n",
        "                print(f\"Failed to process {pdf_file}: {e}\")\n",
        "\n",
        "    # Pickle the dictionary\n",
        "    with open(pickle_file_path, 'wb') as handle:\n",
        "        pickle.dump(pdf_text_dict, handle, protocol=pickle.HIGHEST_PROTOCOL)\n",
        "\n",
        "    print(\"Pickled the dictionary.\")"
      ],
      "metadata": {
        "colab": {
          "base_uri": "https://localhost:8080/"
        },
        "id": "Uhn8aGUPMK-8",
        "outputId": "04c7404a-d16c-41da-d775-6bc1c0e5de6d"
      },
      "execution_count": 20,
      "outputs": [
        {
          "output_type": "stream",
          "name": "stdout",
          "text": [
            "Loaded pickled dictionary. Exiting script.\n"
          ]
        }
      ]
    },
    {
      "cell_type": "code",
      "source": [
        "for key, value in pdf_text_dict.items():\n",
        "    print(f\"---{key}---\")\n",
        "    print(value[:100])  # print the first 100 characters"
      ],
      "metadata": {
        "colab": {
          "base_uri": "https://localhost:8080/"
        },
        "id": "GGqOe29k42jx",
        "outputId": "5b9d0d97-6d26-4686-8dfd-93ea78d6ca91"
      },
      "execution_count": 21,
      "outputs": [
        {
          "output_type": "stream",
          "name": "stdout",
          "text": [
            "---Duration and simultaneity.pdf---\n",
            "BOBBS-MERRILL THELIBRARY OFLIBERAL ARTS\n",
            "BERGSON\n",
            "Duration and\n",
            "Simultaneity\n",
            ".B413\n",
            "Duration andSimultan\n",
            "---Mind-Energy_ Lectures and Essays.pdf---\n",
            "MIND- ENERGY \n",
            "LECTURES AND ESSAYS \n",
            "HENRI BERGSON \n",
            "TRANSLATED BY \n",
            "H. WILDON CARR \n",
            "GREENWOOD PRESS \n",
            "We\n",
            "---Time and free will_ an essay on the immediate data of consciousness.pdf---\n",
            "Time and Free Will: An essay on the \n",
            "Immediate Data of Consciousness \n",
            " \n",
            "AUTHOR'S PREFACE \n",
            "WE necessa\n",
            "---An Introduction to Metaphysics (1912).pdf---\n",
            "An Introduction to \n",
            "Metaphysics \n",
            "By \n",
            "Henri Bergson \n",
            "Member of the Lutitute and Profeaaor of the Coll\n",
            "---The Two Sources of Morality and Religion.pdf---\n",
            "\n",
            "---Creative Evolution.pdf---\n",
            " Creative Evolution\n",
            "First published in French in 1907, Henri Bergson’s L ’évolution créatrice  is a \n",
            "---Laughter.pdf---\n",
            "Laughter\n",
            "Information about Project Gutenberg\n",
            "The Legal Small Print\n",
            "CHAPTER I<p>\n",
            "CHAPTER I\n",
            "CHAPTER II\n",
            "---The Meaning Of War.pdf---\n",
            "A free download from http://manybooks.net\n",
            "The Meaning of the War\n",
            "The Meaning of the War\n",
            "The Meaning \n",
            "---The Creative Mind.pdf---\n",
            "THE CREATIVE MIND  \n",
            "by HENRI BERGSON of the Ac adémie Francaise and the \n",
            "Académie des Sciences  mora\n",
            "---Matter and Memory.pdf---\n",
            "CO\n",
            "Xibran? ofphilosophy\n",
            "EDITED BY J.H.MUIRHEAD, LL.D.\n",
            "MATTER ANDMEMORY\n",
            "SOME OPINIONS OFTHEPRESS.\n",
            "&qu\n"
          ]
        }
      ]
    },
    {
      "cell_type": "code",
      "source": [
        "# Convert all the text to lowercase and concatenate it\n",
        "all_text = ''.join([text.lower() for text in pdf_text_dict.values()])\n",
        "\n",
        "# Tokenization: Split the text into words\n",
        "tokens = word_tokenize(all_text)\n",
        "\n",
        "# Remove Punctuation and Numbers\n",
        "tokens = [word for word in tokens if word.isalpha()]\n",
        "\n",
        "# Remove Stopwords\n",
        "stop_words = set(stopwords.words('english'))\n",
        "filtered_tokens = [word for word in tokens if not word in stop_words]\n",
        "\n",
        "# Frequency Distribution\n",
        "freq = Counter(filtered_tokens)\n",
        "\n",
        "# Visualization\n",
        "common_words = freq.most_common(10)\n",
        "words = [word[0] for word in common_words]\n",
        "counts = [word[1] for word in common_words]\n",
        "\n",
        "plt.figure(figsize=(15, 6))\n",
        "plt.barh(words, counts, color='purple')\n",
        "plt.xlabel('Counts')\n",
        "plt.ylabel('Common Words')\n",
        "plt.title('Most Common Words in PDF Collection')\n",
        "plt.show()\n"
      ],
      "metadata": {
        "colab": {
          "base_uri": "https://localhost:8080/",
          "height": 772
        },
        "id": "qsPabfjlC5m_",
        "outputId": "c21ccede-db85-4a72-c530-8ad74bece3b5"
      },
      "execution_count": 22,
      "outputs": [
        {
          "output_type": "error",
          "ename": "LookupError",
          "evalue": "ignored",
          "traceback": [
            "\u001b[0;31m---------------------------------------------------------------------------\u001b[0m",
            "\u001b[0;31mLookupError\u001b[0m                               Traceback (most recent call last)",
            "\u001b[0;32m<ipython-input-22-7a6d5bfe2f6b>\u001b[0m in \u001b[0;36m<cell line: 5>\u001b[0;34m()\u001b[0m\n\u001b[1;32m      3\u001b[0m \u001b[0;34m\u001b[0m\u001b[0m\n\u001b[1;32m      4\u001b[0m \u001b[0;31m# Tokenization: Split the text into words\u001b[0m\u001b[0;34m\u001b[0m\u001b[0;34m\u001b[0m\u001b[0m\n\u001b[0;32m----> 5\u001b[0;31m \u001b[0mtokens\u001b[0m \u001b[0;34m=\u001b[0m \u001b[0mword_tokenize\u001b[0m\u001b[0;34m(\u001b[0m\u001b[0mall_text\u001b[0m\u001b[0;34m)\u001b[0m\u001b[0;34m\u001b[0m\u001b[0;34m\u001b[0m\u001b[0m\n\u001b[0m\u001b[1;32m      6\u001b[0m \u001b[0;34m\u001b[0m\u001b[0m\n\u001b[1;32m      7\u001b[0m \u001b[0;31m# Remove Punctuation and Numbers\u001b[0m\u001b[0;34m\u001b[0m\u001b[0;34m\u001b[0m\u001b[0m\n",
            "\u001b[0;32m/usr/local/lib/python3.10/dist-packages/nltk/tokenize/__init__.py\u001b[0m in \u001b[0;36mword_tokenize\u001b[0;34m(text, language, preserve_line)\u001b[0m\n\u001b[1;32m    127\u001b[0m     \u001b[0;34m:\u001b[0m\u001b[0mtype\u001b[0m \u001b[0mpreserve_line\u001b[0m\u001b[0;34m:\u001b[0m \u001b[0mbool\u001b[0m\u001b[0;34m\u001b[0m\u001b[0;34m\u001b[0m\u001b[0m\n\u001b[1;32m    128\u001b[0m     \"\"\"\n\u001b[0;32m--> 129\u001b[0;31m     \u001b[0msentences\u001b[0m \u001b[0;34m=\u001b[0m \u001b[0;34m[\u001b[0m\u001b[0mtext\u001b[0m\u001b[0;34m]\u001b[0m \u001b[0;32mif\u001b[0m \u001b[0mpreserve_line\u001b[0m \u001b[0;32melse\u001b[0m \u001b[0msent_tokenize\u001b[0m\u001b[0;34m(\u001b[0m\u001b[0mtext\u001b[0m\u001b[0;34m,\u001b[0m \u001b[0mlanguage\u001b[0m\u001b[0;34m)\u001b[0m\u001b[0;34m\u001b[0m\u001b[0;34m\u001b[0m\u001b[0m\n\u001b[0m\u001b[1;32m    130\u001b[0m     return [\n\u001b[1;32m    131\u001b[0m         \u001b[0mtoken\u001b[0m \u001b[0;32mfor\u001b[0m \u001b[0msent\u001b[0m \u001b[0;32min\u001b[0m \u001b[0msentences\u001b[0m \u001b[0;32mfor\u001b[0m \u001b[0mtoken\u001b[0m \u001b[0;32min\u001b[0m \u001b[0m_treebank_word_tokenizer\u001b[0m\u001b[0;34m.\u001b[0m\u001b[0mtokenize\u001b[0m\u001b[0;34m(\u001b[0m\u001b[0msent\u001b[0m\u001b[0;34m)\u001b[0m\u001b[0;34m\u001b[0m\u001b[0;34m\u001b[0m\u001b[0m\n",
            "\u001b[0;32m/usr/local/lib/python3.10/dist-packages/nltk/tokenize/__init__.py\u001b[0m in \u001b[0;36msent_tokenize\u001b[0;34m(text, language)\u001b[0m\n\u001b[1;32m    104\u001b[0m     \u001b[0;34m:\u001b[0m\u001b[0mparam\u001b[0m \u001b[0mlanguage\u001b[0m\u001b[0;34m:\u001b[0m \u001b[0mthe\u001b[0m \u001b[0mmodel\u001b[0m \u001b[0mname\u001b[0m \u001b[0;32min\u001b[0m \u001b[0mthe\u001b[0m \u001b[0mPunkt\u001b[0m \u001b[0mcorpus\u001b[0m\u001b[0;34m\u001b[0m\u001b[0;34m\u001b[0m\u001b[0m\n\u001b[1;32m    105\u001b[0m     \"\"\"\n\u001b[0;32m--> 106\u001b[0;31m     \u001b[0mtokenizer\u001b[0m \u001b[0;34m=\u001b[0m \u001b[0mload\u001b[0m\u001b[0;34m(\u001b[0m\u001b[0;34mf\"tokenizers/punkt/{language}.pickle\"\u001b[0m\u001b[0;34m)\u001b[0m\u001b[0;34m\u001b[0m\u001b[0;34m\u001b[0m\u001b[0m\n\u001b[0m\u001b[1;32m    107\u001b[0m     \u001b[0;32mreturn\u001b[0m \u001b[0mtokenizer\u001b[0m\u001b[0;34m.\u001b[0m\u001b[0mtokenize\u001b[0m\u001b[0;34m(\u001b[0m\u001b[0mtext\u001b[0m\u001b[0;34m)\u001b[0m\u001b[0;34m\u001b[0m\u001b[0;34m\u001b[0m\u001b[0m\n\u001b[1;32m    108\u001b[0m \u001b[0;34m\u001b[0m\u001b[0m\n",
            "\u001b[0;32m/usr/local/lib/python3.10/dist-packages/nltk/data.py\u001b[0m in \u001b[0;36mload\u001b[0;34m(resource_url, format, cache, verbose, logic_parser, fstruct_reader, encoding)\u001b[0m\n\u001b[1;32m    748\u001b[0m \u001b[0;34m\u001b[0m\u001b[0m\n\u001b[1;32m    749\u001b[0m     \u001b[0;31m# Load the resource.\u001b[0m\u001b[0;34m\u001b[0m\u001b[0;34m\u001b[0m\u001b[0m\n\u001b[0;32m--> 750\u001b[0;31m     \u001b[0mopened_resource\u001b[0m \u001b[0;34m=\u001b[0m \u001b[0m_open\u001b[0m\u001b[0;34m(\u001b[0m\u001b[0mresource_url\u001b[0m\u001b[0;34m)\u001b[0m\u001b[0;34m\u001b[0m\u001b[0;34m\u001b[0m\u001b[0m\n\u001b[0m\u001b[1;32m    751\u001b[0m \u001b[0;34m\u001b[0m\u001b[0m\n\u001b[1;32m    752\u001b[0m     \u001b[0;32mif\u001b[0m \u001b[0mformat\u001b[0m \u001b[0;34m==\u001b[0m \u001b[0;34m\"raw\"\u001b[0m\u001b[0;34m:\u001b[0m\u001b[0;34m\u001b[0m\u001b[0;34m\u001b[0m\u001b[0m\n",
            "\u001b[0;32m/usr/local/lib/python3.10/dist-packages/nltk/data.py\u001b[0m in \u001b[0;36m_open\u001b[0;34m(resource_url)\u001b[0m\n\u001b[1;32m    874\u001b[0m \u001b[0;34m\u001b[0m\u001b[0m\n\u001b[1;32m    875\u001b[0m     \u001b[0;32mif\u001b[0m \u001b[0mprotocol\u001b[0m \u001b[0;32mis\u001b[0m \u001b[0;32mNone\u001b[0m \u001b[0;32mor\u001b[0m \u001b[0mprotocol\u001b[0m\u001b[0;34m.\u001b[0m\u001b[0mlower\u001b[0m\u001b[0;34m(\u001b[0m\u001b[0;34m)\u001b[0m \u001b[0;34m==\u001b[0m \u001b[0;34m\"nltk\"\u001b[0m\u001b[0;34m:\u001b[0m\u001b[0;34m\u001b[0m\u001b[0;34m\u001b[0m\u001b[0m\n\u001b[0;32m--> 876\u001b[0;31m         \u001b[0;32mreturn\u001b[0m \u001b[0mfind\u001b[0m\u001b[0;34m(\u001b[0m\u001b[0mpath_\u001b[0m\u001b[0;34m,\u001b[0m \u001b[0mpath\u001b[0m \u001b[0;34m+\u001b[0m \u001b[0;34m[\u001b[0m\u001b[0;34m\"\"\u001b[0m\u001b[0;34m]\u001b[0m\u001b[0;34m)\u001b[0m\u001b[0;34m.\u001b[0m\u001b[0mopen\u001b[0m\u001b[0;34m(\u001b[0m\u001b[0;34m)\u001b[0m\u001b[0;34m\u001b[0m\u001b[0;34m\u001b[0m\u001b[0m\n\u001b[0m\u001b[1;32m    877\u001b[0m     \u001b[0;32melif\u001b[0m \u001b[0mprotocol\u001b[0m\u001b[0;34m.\u001b[0m\u001b[0mlower\u001b[0m\u001b[0;34m(\u001b[0m\u001b[0;34m)\u001b[0m \u001b[0;34m==\u001b[0m \u001b[0;34m\"file\"\u001b[0m\u001b[0;34m:\u001b[0m\u001b[0;34m\u001b[0m\u001b[0;34m\u001b[0m\u001b[0m\n\u001b[1;32m    878\u001b[0m         \u001b[0;31m# urllib might not use mode='rb', so handle this one ourselves:\u001b[0m\u001b[0;34m\u001b[0m\u001b[0;34m\u001b[0m\u001b[0m\n",
            "\u001b[0;32m/usr/local/lib/python3.10/dist-packages/nltk/data.py\u001b[0m in \u001b[0;36mfind\u001b[0;34m(resource_name, paths)\u001b[0m\n\u001b[1;32m    581\u001b[0m     \u001b[0msep\u001b[0m \u001b[0;34m=\u001b[0m \u001b[0;34m\"*\"\u001b[0m \u001b[0;34m*\u001b[0m \u001b[0;36m70\u001b[0m\u001b[0;34m\u001b[0m\u001b[0;34m\u001b[0m\u001b[0m\n\u001b[1;32m    582\u001b[0m     \u001b[0mresource_not_found\u001b[0m \u001b[0;34m=\u001b[0m \u001b[0;34mf\"\\n{sep}\\n{msg}\\n{sep}\\n\"\u001b[0m\u001b[0;34m\u001b[0m\u001b[0;34m\u001b[0m\u001b[0m\n\u001b[0;32m--> 583\u001b[0;31m     \u001b[0;32mraise\u001b[0m \u001b[0mLookupError\u001b[0m\u001b[0;34m(\u001b[0m\u001b[0mresource_not_found\u001b[0m\u001b[0;34m)\u001b[0m\u001b[0;34m\u001b[0m\u001b[0;34m\u001b[0m\u001b[0m\n\u001b[0m\u001b[1;32m    584\u001b[0m \u001b[0;34m\u001b[0m\u001b[0m\n\u001b[1;32m    585\u001b[0m \u001b[0;34m\u001b[0m\u001b[0m\n",
            "\u001b[0;31mLookupError\u001b[0m: \n**********************************************************************\n  Resource \u001b[93mpunkt\u001b[0m not found.\n  Please use the NLTK Downloader to obtain the resource:\n\n  \u001b[31m>>> import nltk\n  >>> nltk.download('punkt')\n  \u001b[0m\n  For more information see: https://www.nltk.org/data.html\n\n  Attempted to load \u001b[93mtokenizers/punkt/PY3/english.pickle\u001b[0m\n\n  Searched in:\n    - '/root/nltk_data'\n    - '/usr/nltk_data'\n    - '/usr/share/nltk_data'\n    - '/usr/lib/nltk_data'\n    - '/usr/share/nltk_data'\n    - '/usr/local/share/nltk_data'\n    - '/usr/lib/nltk_data'\n    - '/usr/local/lib/nltk_data'\n    - ''\n**********************************************************************\n"
          ]
        }
      ]
    },
    {
      "cell_type": "code",
      "source": [],
      "metadata": {
        "id": "1v7wCW4K5Ymf"
      },
      "execution_count": null,
      "outputs": []
    }
  ]
}